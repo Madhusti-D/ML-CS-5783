{
  "cells": [
    {
      "cell_type": "markdown",
      "metadata": {
        "id": "view-in-github",
        "colab_type": "text"
      },
      "source": [
        "<a href=\"https://colab.research.google.com/github/Madhusti-D/ML-CS-5783/blob/main/Assignment_1_Problem_1.ipynb\" target=\"_parent\"><img src=\"https://colab.research.google.com/assets/colab-badge.svg\" alt=\"Open In Colab\"/></a>"
      ]
    },
    {
      "cell_type": "markdown",
      "source": [
        "# Problem 1"
      ],
      "metadata": {
        "id": "EPK4WULMyGX6"
      },
      "id": "EPK4WULMyGX6"
    },
    {
      "cell_type": "markdown",
      "id": "b5bbc5b6",
      "metadata": {
        "id": "b5bbc5b6"
      },
      "source": [
        "# **Implementing Gradient Descent linear regression model without bias functions**\n",
        "\n",
        "1. As mentioned in the problem statement, the given datasets are visualized in block [4] and [5].\n",
        "\n",
        "\n",
        "> 2a. The relationship is non-linear which can be interpreted from the step 1 or question 1\n",
        "\n",
        "\n",
        "\n",
        "> 2b. i. We can do feature engineering by updating the one input feature variable to its power of degree based on the requirement of the model fit we need.\n",
        "For example, x is a data feature and it has only one feature, it can feature engineered by updting x to x^2 or x^3 or x^5 and so on.\n",
        "\n",
        "\n",
        "\n",
        "\n",
        "> 2b. ii. We need feature engineering to add non-linearity and for this assignment I have implemented polynomial basis function. Results can be interpreted from the plots\n",
        "\n",
        "\n",
        "\n",
        "\n",
        "\n",
        "\n",
        "\n"
      ]
    },
    {
      "cell_type": "code",
      "execution_count": 3,
      "id": "9e4183eb",
      "metadata": {
        "id": "9e4183eb",
        "outputId": "c6a704db-5151-41b6-806e-0f3adaea1633",
        "colab": {
          "base_uri": "https://localhost:8080/"
        }
      },
      "outputs": [
        {
          "output_type": "stream",
          "name": "stdout",
          "text": [
            "Drive already mounted at /content/drive; to attempt to forcibly remount, call drive.mount(\"/content/drive\", force_remount=True).\n"
          ]
        }
      ],
      "source": [
        "import numpy as np\n",
        "import matplotlib.pyplot as plt\n",
        "import math\n",
        "\n",
        "from google.colab import drive\n",
        "drive.mount('/content/drive')"
      ]
    },
    {
      "cell_type": "markdown",
      "id": "f6cebf1e",
      "metadata": {
        "id": "f6cebf1e"
      },
      "source": [
        "Loading training data files"
      ]
    },
    {
      "cell_type": "code",
      "execution_count": 4,
      "id": "12bda592",
      "metadata": {
        "colab": {
          "base_uri": "https://localhost:8080/",
          "height": 265
        },
        "id": "12bda592",
        "outputId": "d6a84d8c-b381-480d-f3e5-9c4bda6bbff6"
      },
      "outputs": [
        {
          "output_type": "display_data",
          "data": {
            "text/plain": [
              "<Figure size 432x288 with 1 Axes>"
            ],
            "image/png": "[encoded data removed]"
          },
          "metadata": {
            "needs_background": "light"
          }
        }
      ],
      "source": [
        "X_train = np.load('/content/drive/MyDrive/CS5783 Assignment/Assignment 1/x_train.npy')\n",
        "Y_train = np.load('/content/drive/MyDrive/CS5783 Assignment/Assignment 1/y_train.npy')\n",
        "\n",
        "X_train = X_train.tolist()\n",
        "Y_train = Y_train.tolist()\n",
        "\n",
        "X_train = np.asarray(X_train)\n",
        "Y_train = np.asarray(Y_train)\n",
        "Y_train = Y_train.reshape(100,1)\n",
        "\n",
        "plt.scatter(X_train,Y_train)\n",
        "plt.show()"
      ]
    },
    {
      "cell_type": "code",
      "execution_count": 5,
      "id": "d4c50a70",
      "metadata": {
        "colab": {
          "base_uri": "https://localhost:8080/",
          "height": 265
        },
        "id": "d4c50a70",
        "outputId": "00566b9d-0704-4132-bb94-b52a9eb047a3"
      },
      "outputs": [
        {
          "output_type": "display_data",
          "data": {
            "text/plain": [
              "<Figure size 432x288 with 1 Axes>"
            ],
            "image/png": "[encoded data removed]"
          },
          "metadata": {
            "needs_background": "light"
          }
        }
      ],
      "source": [
        "X_test = np.load('/content/drive/MyDrive/CS5783 Assignment/Assignment 1/x_test.npy')\n",
        "Y_test = np.load('/content/drive/MyDrive/CS5783 Assignment/Assignment 1/y_test.npy')\n",
        "\n",
        "\n",
        "X_test = X_test.tolist()\n",
        "Y_test = Y_test.tolist()\n",
        "\n",
        "X_test = np.asarray(X_test)\n",
        "Y_test = np.asarray(Y_test)\n",
        "\n",
        "plt.scatter(X_test,Y_test)\n",
        "plt.show()"
      ]
    },
    {
      "cell_type": "markdown",
      "id": "6b61fb63",
      "metadata": {
        "id": "6b61fb63"
      },
      "source": [
        "# Cost function block\n"
      ]
    },
    {
      "cell_type": "code",
      "execution_count": 6,
      "id": "085ec6d8",
      "metadata": {
        "id": "085ec6d8"
      },
      "outputs": [],
      "source": [
        "NUMBER_OF_SAMPLES_TRAINING = len(X_train)\n",
        "\n",
        "def loss_function(X_train, Y_train, W, b):\n",
        "    N = len(X_train)\n",
        "    loss_error = 0.0\n",
        "    for i in range (N):\n",
        "        loss_error += ((W * X_train[i] -b) - Y_train[i]) **2 \n",
        "    \n",
        "    return loss_error / (2*float(N))"
      ]
    },
    {
      "cell_type": "markdown",
      "id": "59dc2279",
      "metadata": {
        "id": "59dc2279"
      },
      "source": [
        "# Gradient Descent Block\n",
        " \n",
        "alpha - learning rate\n",
        "N -Number of samples in dataset\n"
      ]
    },
    {
      "cell_type": "code",
      "execution_count": 7,
      "id": "7193feb6",
      "metadata": {
        "id": "7193feb6"
      },
      "outputs": [],
      "source": [
        "def gradient_descent(X_train, Y_train, W, b, alpha):\n",
        "    partial_diff_W = 0.0\n",
        "    partial_diff_b = 0.0\n",
        "    N = len(X_train)\n",
        "    \n",
        "    for i in range (N):\n",
        "        partial_diff_W += -1* X_train[i] * (Y_train[i] - (W*X_train[i] + b))                                         \n",
        "        partial_diff_b += -1*(Y_train[i] - (W*X_train[i] + b))\n",
        "        \n",
        "    W = W - (1/float(N)) * partial_diff_W * alpha\n",
        "    b = b - (1/float(N)) * partial_diff_b * alpha\n",
        "    \n",
        "    return W, b "
      ]
    },
    {
      "cell_type": "code",
      "execution_count": 8,
      "id": "e64b2ace",
      "metadata": {
        "id": "e64b2ace"
      },
      "outputs": [],
      "source": [
        "def train(X_train, Y_train, W, b, alpha, n_iter):\n",
        "    for i in range(n_iter):\n",
        "        W, b = gradient_descent(X_train, Y_train, W, b, alpha)\n",
        "        #print(\"iteration:\", i, \"Loss: \", loss_function(X_train,Y_train,W,b))\n",
        "    return W, b"
      ]
    },
    {
      "cell_type": "code",
      "execution_count": 9,
      "id": "cbc94365",
      "metadata": {
        "id": "cbc94365"
      },
      "outputs": [],
      "source": [
        "def predict(X_train, W, b):\n",
        "    return X_train*W + b"
      ]
    },
    {
      "cell_type": "code",
      "execution_count": 10,
      "id": "58f974b8",
      "metadata": {
        "id": "58f974b8"
      },
      "outputs": [],
      "source": [
        "W, b = train(X_train, Y_train, 0.0, 0.0, 0.0001, 5000)"
      ]
    },
    {
      "cell_type": "code",
      "execution_count": 11,
      "id": "d1403f00",
      "metadata": {
        "id": "d1403f00"
      },
      "outputs": [],
      "source": [
        "Prediction_vals = predict(X_train, W, b )\n"
      ]
    },
    {
      "cell_type": "code",
      "execution_count": 12,
      "id": "3696a07b",
      "metadata": {
        "colab": {
          "base_uri": "https://localhost:8080/",
          "height": 265
        },
        "id": "3696a07b",
        "outputId": "0af8070e-f9a6-4d45-8092-e66a50284238"
      },
      "outputs": [
        {
          "output_type": "display_data",
          "data": {
            "text/plain": [
              "<Figure size 432x288 with 1 Axes>"
            ],
            "image/png": "[encoded data removed]"
          },
          "metadata": {
            "needs_background": "light"
          }
        }
      ],
      "source": [
        "#Initial Plot\n",
        "\n",
        "plt.plot(X_train, Prediction_vals, color = 'Red')\n",
        "plt.scatter(X_train,Y_train)\n",
        "plt.show()"
      ]
    },
    {
      "cell_type": "markdown",
      "source": [
        "#Implementing feature engineering through basis functions\n",
        "\n",
        "Assuming linear relationship between x and y variables, gradient descent for linear regression in implemented above.\n",
        "\n",
        "But the hypothetical function relating these two variables are non linear to each other and hence we need to implement feature engineering through basis functions"
      ],
      "metadata": {
        "id": "DpSK4QrMs3os"
      },
      "id": "DpSK4QrMs3os"
    },
    {
      "cell_type": "markdown",
      "source": [
        "# Polynomial Basis Function"
      ],
      "metadata": {
        "id": "mGsVApmEysOl"
      },
      "id": "mGsVApmEysOl"
    },
    {
      "cell_type": "code",
      "source": [
        "print(Y_train.shape)"
      ],
      "metadata": {
        "colab": {
          "base_uri": "https://localhost:8080/"
        },
        "id": "xurVlh-qewpG",
        "outputId": "ab949fcc-7653-4f70-d6e4-85b649b53dc5"
      },
      "id": "xurVlh-qewpG",
      "execution_count": 13,
      "outputs": [
        {
          "output_type": "stream",
          "name": "stdout",
          "text": [
            "(100, 1)\n"
          ]
        }
      ]
    },
    {
      "cell_type": "code",
      "source": [
        "print(\"X_train shape : \", X_train.shape)\n",
        "print(\"Y_train shape : \", Y_train.shape)\n",
        "print(\"X_test shape :  \", X_test.shape)\n",
        "print(\"Y_test shape:  \", Y_test.shape)"
      ],
      "metadata": {
        "colab": {
          "base_uri": "https://localhost:8080/"
        },
        "id": "BAs8Y2lKd5De",
        "outputId": "c0c91a6a-bea8-4daa-9a18-832f37685766"
      },
      "id": "BAs8Y2lKd5De",
      "execution_count": 14,
      "outputs": [
        {
          "output_type": "stream",
          "name": "stdout",
          "text": [
            "X_train shape :  (100, 1)\n",
            "Y_train shape :  (100, 1)\n",
            "X_test shape :   (100, 1)\n",
            "Y_test shape:   (100, 1)\n"
          ]
        }
      ]
    },
    {
      "cell_type": "code",
      "execution_count": 15,
      "id": "257b778f",
      "metadata": {
        "id": "257b778f"
      },
      "outputs": [],
      "source": [
        "def x_features(X_train, deg_of_x):\n",
        "  tmp = X_train.copy()\n",
        "\n",
        "  for i in deg_of_x:\n",
        "    X_train = np.append(X_train, tmp**i, axis=1)\n",
        "\n",
        "  return X_train\n"
      ]
    },
    {
      "cell_type": "markdown",
      "source": [
        "#New training block after adding polynomial basis function based features"
      ],
      "metadata": {
        "id": "HGGv_9wO0EQV"
      },
      "id": "HGGv_9wO0EQV"
    },
    {
      "cell_type": "code",
      "source": [
        "#Gradient Descent Block\n",
        "\n",
        "def gradients(X, y, y_hat):\n",
        "    \n",
        "    # X --> Input.\n",
        "    # y --> true/target value.\n",
        "    # y_hat --> hypothesis\n",
        "    # w --> weights (parameter).\n",
        "    # b --> bias (parameter).\n",
        "    \n",
        "    # m-> number of training examples.\n",
        "    m = X.shape[0]\n",
        "    \n",
        "    # Gradient of loss w.r.t weights.\n",
        "    dw = (1/m)*np.dot(X.T, (y_hat - y))\n",
        "    \n",
        "    # Gradient of loss w.r.t bias.\n",
        "    db = (1/m)*np.sum((y_hat - y)) \n",
        "    \n",
        "    return dw, db"
      ],
      "metadata": {
        "id": "KMKmbOlSpavF"
      },
      "id": "KMKmbOlSpavF",
      "execution_count": 16,
      "outputs": []
    },
    {
      "cell_type": "code",
      "source": [
        "def trainining_basis_1(X_train,Y_train,deg_of_x, alpha,n_iter):\n",
        "  New_X_train = x_features(X_train, deg_of_x)\n",
        "\n",
        "  [c,d] = New_X_train.shape\n",
        "\n",
        "  Weights_new = np.zeros((d,1))\n",
        "  bias_new = 0\n",
        "\n",
        "  New_Loss = []\n",
        "\n",
        "  for i in range(n_iter):\n",
        "    y_hyp = np.dot(New_X_train, Weights_new) + bias_new\n",
        "    diff_weights, diff_bias = gradients(New_X_train, Y_train, y_hyp)  \n",
        "    #print(\"iteration:\", i, \"Loss: \", loss_function(X_train,Y_train,W,b))\n",
        "    l = loss_function(New_X_train, Y_train, Weights_new, bias_new)\n",
        "\n",
        "    Weights_new -= alpha*diff_weights\n",
        "    bias_new -= alpha*diff_bias\n",
        "    New_Loss.append(l)\n",
        "  return Weights_new, bias_new, New_Loss\n"
      ],
      "metadata": {
        "id": "9U7z8yRF0OZq"
      },
      "id": "9U7z8yRF0OZq",
      "execution_count": 17,
      "outputs": []
    },
    {
      "cell_type": "code",
      "source": [
        "def prediction_basis(X_train, Weights_new, bias_new, deg_of_x):\n",
        "    \n",
        "    # X --> Input.\n",
        "    # w --> weights (parameter).\n",
        "    # b --> bias (parameter).\n",
        "    #degrees --> A list, We add X^(value) feature to the input\n",
        "    #             where value is one of the values in the list.\n",
        "    \n",
        "    # Adding degrees to input X.\n",
        "    x1 = x_features(X_train, deg_of_x)\n",
        "    \n",
        "    # Returning predictions.\n",
        "    return np.dot(x1, Weights_new) + bias_new"
      ],
      "metadata": {
        "id": "BY3vsz-ER6Nl"
      },
      "id": "BY3vsz-ER6Nl",
      "execution_count": 18,
      "outputs": []
    },
    {
      "cell_type": "code",
      "source": [
        "Weights_new,bias_new,New_Loss = trainining_basis_1(X_train,Y_train,deg_of_x=[2], n_iter=10000,alpha = 0.0001)\n",
        "\n",
        "#Plots\n",
        "\n",
        "fig = plt.figure(figsize=(8,6))\n",
        "plt.plot(X_train, Y_train, 'b.')\n",
        "plt.plot(X_train, prediction_basis(X_train, Weights_new, bias_new, deg_of_x=[2]), 'r.')\n",
        "plt.legend([\"Data\", \"Polynomial predictions for degree of 2\"])\n",
        "plt.xlabel('X - Input Data')\n",
        "plt.ylabel('y - target data')\n",
        "plt.title('Polynomial Regression for degree of x as 2')\n",
        "plt.show()"
      ],
      "metadata": {
        "colab": {
          "base_uri": "https://localhost:8080/",
          "height": 404
        },
        "id": "vl4l2tdlr2oe",
        "outputId": "b34f9cc3-16f9-4028-c47e-38b5e62e6bb3"
      },
      "id": "vl4l2tdlr2oe",
      "execution_count": 19,
      "outputs": [
        {
          "output_type": "display_data",
          "data": {
            "text/plain": [
              "<Figure size 576x432 with 1 Axes>"
            ],
            "image/png": "[encoded data removed]"
          },
          "metadata": {
            "needs_background": "light"
          }
        }
      ]
    },
    {
      "cell_type": "code",
      "source": [
        "Weights_new,bias_new,New_Loss = trainining_basis_1(X_train,Y_train,deg_of_x=[3], n_iter=10000,alpha = 0.0001)\n",
        "\n",
        "#Plots\n",
        "\n",
        "fig = plt.figure()\n",
        "plt.plot(X_train, Y_train, 'b.')\n",
        "plt.plot(X_train, prediction_basis(X_train, Weights_new, bias_new, deg_of_x=[3]), 'r.')\n",
        "plt.legend([\"Data\", \"Polynomial predictions\"])\n",
        "plt.xlabel('X_train - Input Data')\n",
        "plt.ylabel('Y_train - target Data')\n",
        "plt.title('Polynomial Regression for degree of x as 3')\n",
        "plt.show()\n"
      ],
      "metadata": {
        "colab": {
          "base_uri": "https://localhost:8080/",
          "height": 296
        },
        "id": "csofsud6R6Mw",
        "outputId": "7750bcb7-f7d4-4359-8290-4fd536d177ea"
      },
      "id": "csofsud6R6Mw",
      "execution_count": 27,
      "outputs": [
        {
          "output_type": "display_data",
          "data": {
            "text/plain": [
              "<Figure size 432x288 with 1 Axes>"
            ],
            "image/png": "[encoded data removed]"
          },
          "metadata": {
            "needs_background": "light"
          }
        }
      ]
    },
    {
      "cell_type": "code",
      "source": [
        "Weights_new,bias_new,New_Loss = trainining_basis_1(X_train,Y_train,deg_of_x=[5], n_iter=500000,alpha = 0.000001)\n",
        "\n",
        "#Plots\n",
        "\n",
        "fig = plt.figure()\n",
        "plt.plot(X_train, Y_train, 'b.')\n",
        "plt.plot(X_train, prediction_basis(X_train, Weights_new, bias_new, deg_of_x=[5]), 'r.')\n",
        "plt.legend([\"Data\", \"Polynomial predictions\"])\n",
        "plt.xlabel('X - Input')\n",
        "plt.ylabel('y - target / true')\n",
        "plt.title('Polynomial Regression for degree of x as 5')\n",
        "plt.show()"
      ],
      "metadata": {
        "colab": {
          "base_uri": "https://localhost:8080/",
          "height": 295
        },
        "id": "t_7elbgKsPjX",
        "outputId": "865af2e2-f1b6-4496-9934-90b2c68f2d8d"
      },
      "id": "t_7elbgKsPjX",
      "execution_count": 64,
      "outputs": [
        {
          "output_type": "display_data",
          "data": {
            "text/plain": [
              "<Figure size 432x288 with 1 Axes>"
            ],
            "image/png": "[encoded data removed]"
          },
          "metadata": {
            "needs_background": "light"
          }
        }
      ]
    },
    {
      "cell_type": "code",
      "source": [],
      "metadata": {
        "id": "gsK-65SdXWff"
      },
      "id": "gsK-65SdXWff",
      "execution_count": null,
      "outputs": []
    }
  ],
  "metadata": {
    "kernelspec": {
      "display_name": "Python 3 (ipykernel)",
      "language": "python",
      "name": "python3"
    },
    "language_info": {
      "codemirror_mode": {
        "name": "ipython",
        "version": 3
      },
      "file_extension": ".py",
      "mimetype": "text/x-python",
      "name": "python",
      "nbconvert_exporter": "python",
      "pygments_lexer": "ipython3",
      "version": "3.9.12"
    },
    "colab": {
      "provenance": [],
      "collapsed_sections": [],
      "include_colab_link": true
    }
  },
  "nbformat": 4,
  "nbformat_minor": 5
}